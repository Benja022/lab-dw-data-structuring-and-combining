{
 "cells": [
  {
   "cell_type": "markdown",
   "id": "25d7736c-ba17-4aff-b6bb-66eba20fbf4e",
   "metadata": {
    "id": "25d7736c-ba17-4aff-b6bb-66eba20fbf4e"
   },
   "source": [
    "# Lab | Data Structuring and Combining Data"
   ]
  },
  {
   "cell_type": "markdown",
   "id": "a2cdfc70-44c8-478c-81e7-2bc43fdf4986",
   "metadata": {
    "id": "a2cdfc70-44c8-478c-81e7-2bc43fdf4986"
   },
   "source": [
    "## Challenge 1: Combining & Cleaning Data\n",
    "\n",
    "In this challenge, we will be working with the customer data from an insurance company, as we did in the two previous labs. The data can be found here:\n",
    "- https://raw.githubusercontent.com/data-bootcamp-v4/data/main/file1.csv\n",
    "\n",
    "But this time, we got new data, which can be found in the following 2 CSV files located at the links below.\n",
    "\n",
    "- https://raw.githubusercontent.com/data-bootcamp-v4/data/main/file2.csv\n",
    "- https://raw.githubusercontent.com/data-bootcamp-v4/data/main/file3.csv\n",
    "\n",
    "Note that you'll need to clean and format the new data.\n",
    "\n",
    "Observation:\n",
    "- One option is to first combine the three datasets and then apply the cleaning function to the new combined dataset\n",
    "- Another option would be to read the clean file you saved in the previous lab, and just clean the two new files and concatenate the three clean datasets"
   ]
  },
  {
   "cell_type": "code",
   "execution_count": 68,
   "id": "492d06e3-92c7-4105-ac72-536db98d3244",
   "metadata": {
    "id": "492d06e3-92c7-4105-ac72-536db98d3244"
   },
   "outputs": [
    {
     "name": "stdout",
     "output_type": "stream",
     "text": [
      "dataset1:   Customer          ST GENDER             Education Customer Lifetime Value  \\\n",
      "0  RB50392  Washington    NaN                Master                     NaN   \n",
      "1  QZ44356     Arizona      F              Bachelor              697953.59%   \n",
      "2  AI49188      Nevada      F              Bachelor             1288743.17%   \n",
      "3  WW63253  California      M              Bachelor              764586.18%   \n",
      "4  GA49547  Washington      M  High School or Below              536307.65%   \n",
      "\n",
      "    Income  Monthly Premium Auto Number of Open Complaints     Policy Type  \\\n",
      "0      0.0                1000.0                    1/0/00   Personal Auto   \n",
      "1      0.0                  94.0                    1/0/00   Personal Auto   \n",
      "2  48767.0                 108.0                    1/0/00   Personal Auto   \n",
      "3      0.0                 106.0                    1/0/00  Corporate Auto   \n",
      "4  36357.0                  68.0                    1/0/00   Personal Auto   \n",
      "\n",
      "   Vehicle Class  Total Claim Amount  \n",
      "0  Four-Door Car            2.704934  \n",
      "1  Four-Door Car         1131.464935  \n",
      "2   Two-Door Car          566.472247  \n",
      "3            SUV          529.881344  \n",
      "4  Four-Door Car           17.269323  \n",
      "dataset2:   Customer          ST GENDER Education Customer Lifetime Value  Income  \\\n",
      "0  GS98873     Arizona      F  Bachelor              323912.47%   16061   \n",
      "1  CW49887  California      F    Master              462680.11%   79487   \n",
      "2  MY31220  California      F   College              899704.02%   54230   \n",
      "3  UH35128      Oregon      F   College             2580706.30%   71210   \n",
      "4  WH52799     Arizona      F   College              380812.21%   94903   \n",
      "\n",
      "   Monthly Premium Auto Number of Open Complaints  Total Claim Amount  \\\n",
      "0                    88                    1/0/00               633.6   \n",
      "1                   114                    1/0/00               547.2   \n",
      "2                   112                    1/0/00               537.6   \n",
      "3                   214                    1/1/00              1027.2   \n",
      "4                    94                    1/0/00               451.2   \n",
      "\n",
      "      Policy Type  Vehicle Class  \n",
      "0   Personal Auto  Four-Door Car  \n",
      "1    Special Auto            SUV  \n",
      "2   Personal Auto   Two-Door Car  \n",
      "3   Personal Auto     Luxury Car  \n",
      "4  Corporate Auto   Two-Door Car  \n",
      "dataset3:   Customer       State  Customer Lifetime Value             Education Gender  \\\n",
      "0  SA25987  Washington              3479.137523  High School or Below      M   \n",
      "1  TB86706     Arizona              2502.637401                Master      M   \n",
      "2  ZL73902      Nevada              3265.156348              Bachelor      F   \n",
      "3  KX23516  California              4455.843406  High School or Below      F   \n",
      "4  FN77294  California              7704.958480  High School or Below      M   \n",
      "\n",
      "   Income  Monthly Premium Auto  Number of Open Complaints    Policy Type  \\\n",
      "0       0                   104                          0  Personal Auto   \n",
      "1       0                    66                          0  Personal Auto   \n",
      "2   25820                    82                          0  Personal Auto   \n",
      "3       0                   121                          0  Personal Auto   \n",
      "4   30366                   101                          2  Personal Auto   \n",
      "\n",
      "   Total Claim Amount  Vehicle Class  \n",
      "0          499.200000   Two-Door Car  \n",
      "1            3.468912   Two-Door Car  \n",
      "2          393.600000  Four-Door Car  \n",
      "3          699.615192            SUV  \n",
      "4          484.800000            SUV  \n"
     ]
    }
   ],
   "source": [
    "import pandas as pd\n",
    "\n",
    "# Load the datasets\n",
    "df1 = pd.read_csv(\n",
    "    \"https://raw.githubusercontent.com/data-bootcamp-v4/data/main/file1.csv\"\n",
    ")\n",
    "df2 = pd.read_csv(\n",
    "    \"https://raw.githubusercontent.com/data-bootcamp-v4/data/main/file2.csv\"\n",
    ")\n",
    "df3 = pd.read_csv(\n",
    "    \"https://raw.githubusercontent.com/data-bootcamp-v4/data/main/file3.csv\"\n",
    ")\n",
    "\n",
    "# Print the first few rows of the combined dataset\n",
    "print(\"dataset1:\", df1.head())\n",
    "print(\"dataset2:\", df2.head())\n",
    "print(\"dataset3:\", df3.head())\n",
    "\n",
    "# Define a cleaning function\n",
    "def clean_data(df):\n",
    "    # Example cleaning steps\n",
    "    df = df.dropna()  # Drop missing values\n",
    "    df = df.drop_duplicates()  # Drop duplicate rows\n",
    "    return df\n",
    "\n",
    "\n",
    "# Clean each dataset\n",
    "df1_clean = clean_data(df1)\n",
    "df2_clean = clean_data(df2)\n",
    "df3_clean = clean_data(df3)\n",
    "\n",
    "# Combine the datasets\n",
    "combined_df = pd.concat([df1_clean, df2_clean, df3_clean])\n",
    "\n",
    "# Save the combined dataset to a new CSV file\n",
    "combined_df.to_csv(\"combined_cleaned_data.csv\", index=False)"
   ]
  },
  {
   "cell_type": "code",
   "execution_count": 69,
   "id": "4e7913bb",
   "metadata": {},
   "outputs": [
    {
     "name": "stdout",
     "output_type": "stream",
     "text": [
      "dataset1: Index(['Customer', 'ST', 'GENDER', 'Education', 'Customer Lifetime Value',\n",
      "       'Income', 'Monthly Premium Auto', 'Number of Open Complaints',\n",
      "       'Policy Type', 'Vehicle Class', 'Total Claim Amount'],\n",
      "      dtype='object')\n",
      "dataset2: Index(['Customer', 'ST', 'GENDER', 'Education', 'Customer Lifetime Value',\n",
      "       'Income', 'Monthly Premium Auto', 'Number of Open Complaints',\n",
      "       'Total Claim Amount', 'Policy Type', 'Vehicle Class'],\n",
      "      dtype='object')\n",
      "dataset3: Index(['Customer', 'State', 'Customer Lifetime Value', 'Education', 'Gender',\n",
      "       'Income', 'Monthly Premium Auto', 'Number of Open Complaints',\n",
      "       'Policy Type', 'Total Claim Amount', 'Vehicle Class'],\n",
      "      dtype='object')\n"
     ]
    }
   ],
   "source": [
    "# Print column names of each dataset\n",
    "print(\"dataset1:\", df1.columns)\n",
    "print(\"dataset2:\", df2.columns)\n",
    "print(\"dataset3:\", df3.columns)"
   ]
  },
  {
   "cell_type": "code",
   "execution_count": 70,
   "id": "e54c4f70",
   "metadata": {},
   "outputs": [
    {
     "name": "stdout",
     "output_type": "stream",
     "text": [
      "  Customer          ST GENDER             Education Customer Lifetime Value  \\\n",
      "1  QZ44356     Arizona      F              Bachelor              697953.59%   \n",
      "2  AI49188      Nevada      F              Bachelor             1288743.17%   \n",
      "3  WW63253  California      M              Bachelor              764586.18%   \n",
      "4  GA49547  Washington      M  High School or Below              536307.65%   \n",
      "5  OC83172      Oregon      F              Bachelor              825629.78%   \n",
      "\n",
      "    Income  Monthly Premium Auto Number of Open Complaints     Policy Type  \\\n",
      "1      0.0                  94.0                    1/0/00   Personal Auto   \n",
      "2  48767.0                 108.0                    1/0/00   Personal Auto   \n",
      "3      0.0                 106.0                    1/0/00  Corporate Auto   \n",
      "4  36357.0                  68.0                    1/0/00   Personal Auto   \n",
      "5  62902.0                  69.0                    1/0/00   Personal Auto   \n",
      "\n",
      "   Vehicle Class  Total Claim Amount State Gender  \n",
      "1  Four-Door Car         1131.464935   NaN    NaN  \n",
      "2   Two-Door Car          566.472247   NaN    NaN  \n",
      "3            SUV          529.881344   NaN    NaN  \n",
      "4  Four-Door Car           17.269323   NaN    NaN  \n",
      "5   Two-Door Car          159.383042   NaN    NaN  \n"
     ]
    }
   ],
   "source": [
    "# Print the first few rows of the combined dataset\n",
    "print(combined_df.head())"
   ]
  },
  {
   "cell_type": "code",
   "execution_count": 71,
   "id": "76c3d1a6",
   "metadata": {},
   "outputs": [
    {
     "name": "stdout",
     "output_type": "stream",
     "text": [
      "(9010, 13)\n",
      "Index(['Customer', 'ST', 'GENDER', 'Education', 'Customer Lifetime Value',\n",
      "       'Income', 'Monthly Premium Auto', 'Number of Open Complaints',\n",
      "       'Policy Type', 'Vehicle Class', 'Total Claim Amount', 'State',\n",
      "       'Gender'],\n",
      "      dtype='object')\n"
     ]
    }
   ],
   "source": [
    "# Print the shape of the combined dataset\n",
    "print(combined_df.shape)\n",
    "\n",
    "# Print column names of the combined dataset\n",
    "print(combined_df.columns)"
   ]
  },
  {
   "cell_type": "code",
   "execution_count": 72,
   "id": "0882048e",
   "metadata": {},
   "outputs": [
    {
     "name": "stdout",
     "output_type": "stream",
     "text": [
      "Standardized column names: Index(['customer', 'state', 'gender', 'education', 'customer_lifetime_value',\n",
      "       'income', 'monthly_premium_auto', 'number_of_open_complaints',\n",
      "       'policy_type', 'vehicle_class', 'total_claim_amount', 'state',\n",
      "       'gender'],\n",
      "      dtype='object')\n"
     ]
    }
   ],
   "source": [
    "# Function to standardize column names\n",
    "def standardize_column_name(col_name):\n",
    "    col_name = col_name.lower().replace(' ', '_')\n",
    "    if col_name == 'st':\n",
    "        return 'state'\n",
    "    return col_name\n",
    "\n",
    "# Apply the function to all column names\n",
    "combined_df.columns = [standardize_column_name(col) for col in combined_df.columns]\n",
    "\n",
    "# Display the new column names\n",
    "print(\"Standardized column names:\", combined_df.columns)"
   ]
  },
  {
   "cell_type": "code",
   "execution_count": 73,
   "id": "d77ca00e",
   "metadata": {},
   "outputs": [],
   "source": [
    "# Clean the 'gender' column\n",
    "combined_df['gender'] = combined_df['gender'].replace({\n",
    "    'Femal': 'F', 'female': 'F', 'Female': 'F',\n",
    "    'Male': 'M', 'male': 'M'\n",
    "})"
   ]
  },
  {
   "cell_type": "code",
   "execution_count": 74,
   "id": "cd465e50",
   "metadata": {},
   "outputs": [],
   "source": [
    "# Replace state abbreviations with full names\n",
    "state_replacements = {\n",
    "    'AZ': 'Arizona', 'Cali': 'California', 'WA': 'Washington'\n",
    "}\n",
    "combined_df['state'] = combined_df['state'].replace(state_replacements)"
   ]
  },
  {
   "cell_type": "code",
   "execution_count": 75,
   "id": "86f782c2",
   "metadata": {},
   "outputs": [],
   "source": [
    "# Replace 'Bachelors' with 'Bachelor' in the 'education' column\n",
    "combined_df['education'] = combined_df['education'].replace('Bachelors', 'Bachelor')\n"
   ]
  },
  {
   "cell_type": "code",
   "execution_count": 76,
   "id": "07df4ebe",
   "metadata": {},
   "outputs": [],
   "source": [
    "# Remove '%' character in 'customer_lifetime_value' column\n",
    "combined_df['customer_lifetime_value'] = combined_df['customer_lifetime_value'].str.replace('%', '')"
   ]
  },
  {
   "cell_type": "code",
   "execution_count": 77,
   "id": "96e55409",
   "metadata": {},
   "outputs": [],
   "source": [
    "# Replace certain values in 'vehicle_class' with 'Luxury'\n",
    "vehicle_class_replacements = {\n",
    "    'Sports Car': 'Luxury', 'Luxury SUV': 'Luxury', 'Luxury Car': 'Luxury'\n",
    "}\n",
    "combined_df['vehicle_class'] = combined_df['vehicle_class'].replace(vehicle_class_replacements)\n"
   ]
  },
  {
   "cell_type": "code",
   "execution_count": 78,
   "id": "8f4975e9",
   "metadata": {},
   "outputs": [],
   "source": [
    "# Convertir la columna a string\n",
    "combined_df['customer_lifetime_value'] = combined_df['customer_lifetime_value'].astype(str)\n",
    "\n",
    "# Remove percentage signs and convert to float\n",
    "combined_df['customer_lifetime_value'] = combined_df['customer_lifetime_value'].str.replace('%', '').astype(float)"
   ]
  },
  {
   "cell_type": "code",
   "execution_count": 79,
   "id": "fccc34a7",
   "metadata": {},
   "outputs": [],
   "source": [
    "#  Convert 'customer_lifetime_value' to numeric\n",
    "combined_df['customer_lifetime_value'] = combined_df['customer_lifetime_value'].astype(float)"
   ]
  },
  {
   "cell_type": "code",
   "execution_count": 80,
   "id": "41ad56f8",
   "metadata": {},
   "outputs": [],
   "source": [
    "# Clean 'number_of_open_complaints' column\n",
    "def clean_complaints(value):\n",
    "    if isinstance(value, str):\n",
    "        return int(value.split('/')[1])\n",
    "    return value\n",
    "\n",
    "combined_df['number_of_open_complaints'] = combined_df['number_of_open_complaints'].apply(clean_complaints).astype(float)\n"
   ]
  },
  {
   "cell_type": "code",
   "execution_count": 81,
   "id": "ca5a4777",
   "metadata": {},
   "outputs": [
    {
     "name": "stdout",
     "output_type": "stream",
     "text": [
      "Null values in each column:\n",
      " customer                        0\n",
      "state                        7070\n",
      "gender                       7070\n",
      "education                       0\n",
      "customer_lifetime_value      7070\n",
      "income                          0\n",
      "monthly_premium_auto            0\n",
      "number_of_open_complaints       0\n",
      "policy_type                     0\n",
      "vehicle_class                   0\n",
      "total_claim_amount              0\n",
      "state                        1940\n",
      "gender                       1940\n",
      "dtype: int64\n"
     ]
    }
   ],
   "source": [
    "# Identify columns with null values and count them\n",
    "null_counts = combined_df.isnull().sum()\n",
    "print(\"Null values in each column:\\n\", null_counts)"
   ]
  },
  {
   "cell_type": "code",
   "execution_count": 83,
   "id": "c708a379",
   "metadata": {},
   "outputs": [
    {
     "name": "stdout",
     "output_type": "stream",
     "text": [
      "Number of duplicate rows: 3\n"
     ]
    }
   ],
   "source": [
    "# Identify duplicate rows\n",
    "duplicates = combined_df.duplicated()\n",
    "print(\"Number of duplicate rows:\", duplicates.sum())"
   ]
  },
  {
   "cell_type": "code",
   "execution_count": 84,
   "id": "ca42afdb",
   "metadata": {},
   "outputs": [],
   "source": [
    "# Drop all duplicate rows\n",
    "combined_df = combined_df.drop_duplicates()"
   ]
  },
  {
   "cell_type": "code",
   "execution_count": 85,
   "id": "b69c3933",
   "metadata": {},
   "outputs": [
    {
     "name": "stdout",
     "output_type": "stream",
     "text": [
      "Number of duplicate rows after handling: 0\n"
     ]
    }
   ],
   "source": [
    "# Verify that duplicates have been handled\n",
    "duplicates_after = combined_df.duplicated()\n",
    "print(\"Number of duplicate rows after handling:\", duplicates_after.sum())"
   ]
  },
  {
   "cell_type": "code",
   "execution_count": 86,
   "id": "689f31ad",
   "metadata": {},
   "outputs": [
    {
     "name": "stdout",
     "output_type": "stream",
     "text": [
      "Final dataset:   customer       state gender             education  customer_lifetime_value  \\\n",
      "1  QZ44356     Arizona      F              Bachelor                697953.59   \n",
      "2  AI49188      Nevada      F              Bachelor               1288743.17   \n",
      "3  WW63253  California      M              Bachelor                764586.18   \n",
      "4  GA49547  Washington      M  High School or Below                536307.65   \n",
      "5  OC83172      Oregon      F              Bachelor                825629.78   \n",
      "\n",
      "    income  monthly_premium_auto  number_of_open_complaints     policy_type  \\\n",
      "1      0.0                  94.0                        0.0   Personal Auto   \n",
      "2  48767.0                 108.0                        0.0   Personal Auto   \n",
      "3      0.0                 106.0                        0.0  Corporate Auto   \n",
      "4  36357.0                  68.0                        0.0   Personal Auto   \n",
      "5  62902.0                  69.0                        0.0   Personal Auto   \n",
      "\n",
      "   vehicle_class  total_claim_amount state gender  \n",
      "1  Four-Door Car         1131.464935   NaN    NaN  \n",
      "2   Two-Door Car          566.472247   NaN    NaN  \n",
      "3            SUV          529.881344   NaN    NaN  \n",
      "4  Four-Door Car           17.269323   NaN    NaN  \n",
      "5   Two-Door Car          159.383042   NaN    NaN  \n"
     ]
    }
   ],
   "source": [
    "print(\"Final dataset:\", combined_df.head())"
   ]
  },
  {
   "cell_type": "markdown",
   "id": "31b8a9e7-7db9-4604-991b-ef6771603e57",
   "metadata": {
    "id": "31b8a9e7-7db9-4604-991b-ef6771603e57"
   },
   "source": [
    "# Challenge 2: Structuring Data"
   ]
  },
  {
   "cell_type": "markdown",
   "id": "a877fd6d-7a0c-46d2-9657-f25036e4ca4b",
   "metadata": {
    "id": "a877fd6d-7a0c-46d2-9657-f25036e4ca4b"
   },
   "source": [
    "In this challenge, we will continue to work with customer data from an insurance company, but we will use a dataset with more columns, called marketing_customer_analysis.csv, which can be found at the following link:\n",
    "\n",
    "https://raw.githubusercontent.com/data-bootcamp-v4/data/main/marketing_customer_analysis_clean.csv\n",
    "\n",
    "This dataset contains information such as customer demographics, policy details, vehicle information, and the customer's response to the last marketing campaign. Our goal is to explore and analyze this data by performing data cleaning, formatting, and structuring."
   ]
  },
  {
   "cell_type": "code",
   "execution_count": 87,
   "id": "aa10d9b0-1c27-4d3f-a8e4-db6ab73bfd26",
   "metadata": {
    "id": "aa10d9b0-1c27-4d3f-a8e4-db6ab73bfd26"
   },
   "outputs": [
    {
     "name": "stdout",
     "output_type": "stream",
     "text": [
      "unnamed:_0                       0\n",
      "customer                         0\n",
      "state                            0\n",
      "customer_lifetime_value          0\n",
      "response                         0\n",
      "coverage                         0\n",
      "education                        0\n",
      "effective_to_date                0\n",
      "employmentstatus                 0\n",
      "gender                           0\n",
      "income                           0\n",
      "location_code                    0\n",
      "marital_status                   0\n",
      "monthly_premium_auto             0\n",
      "months_since_last_claim          0\n",
      "months_since_policy_inception    0\n",
      "number_of_open_complaints        0\n",
      "number_of_policies               0\n",
      "policy_type                      0\n",
      "policy                           0\n",
      "renew_offer_type                 0\n",
      "sales_channel                    0\n",
      "total_claim_amount               0\n",
      "vehicle_class                    0\n",
      "vehicle_size                     0\n",
      "vehicle_type                     0\n",
      "month                            0\n",
      "dtype: int64\n"
     ]
    },
    {
     "name": "stderr",
     "output_type": "stream",
     "text": [
      "/tmp/ipykernel_158071/2610761169.py:14: FutureWarning: A value is trying to be set on a copy of a DataFrame or Series through chained assignment using an inplace method.\n",
      "The behavior will change in pandas 3.0. This inplace method will never work because the intermediate object on which we are setting values always behaves as a copy.\n",
      "\n",
      "For example, when doing 'df[col].method(value, inplace=True)', try using 'df.method({col: value}, inplace=True)' or df[col] = df[col].method(value) instead, to perform the operation inplace on the original object.\n",
      "\n",
      "\n",
      "  df[column].fillna(df[column].mean(), inplace=True)\n",
      "/tmp/ipykernel_158071/2610761169.py:11: FutureWarning: A value is trying to be set on a copy of a DataFrame or Series through chained assignment using an inplace method.\n",
      "The behavior will change in pandas 3.0. This inplace method will never work because the intermediate object on which we are setting values always behaves as a copy.\n",
      "\n",
      "For example, when doing 'df[col].method(value, inplace=True)', try using 'df.method({col: value}, inplace=True)' or df[col] = df[col].method(value) instead, to perform the operation inplace on the original object.\n",
      "\n",
      "\n",
      "  df[column].fillna(df[column].mode()[0], inplace=True)\n"
     ]
    }
   ],
   "source": [
    "import pandas as pd\n",
    "\n",
    "# Load the dataset\n",
    "url = 'https://raw.githubusercontent.com/data-bootcamp-v4/data/main/marketing_customer_analysis_clean.csv'\n",
    "df = pd.read_csv(url)\n",
    "\n",
    "# Strategy: Fill null values with the column mean for numerical variables and mode for categorical variables\n",
    "for column in df.columns:\n",
    "    if df[column].dtype == object:\n",
    "        # Fill categorical columns with the mode\n",
    "        df[column].fillna(df[column].mode()[0], inplace=True)\n",
    "    else:\n",
    "        # Fill numerical columns with the mean\n",
    "        df[column].fillna(df[column].mean(), inplace=True)\n",
    "\n",
    "# Verify that there are no remaining null values\n",
    "null_values = df.isnull().sum()\n",
    "print(null_values)\n",
    "\n",
    "# Save the cleaned DataFrame to a new CSV file\n",
    "df.to_csv('marketing_customer_analysis_cleaned.csv', index=False)"
   ]
  },
  {
   "cell_type": "markdown",
   "id": "df35fd0d-513e-4e77-867e-429da10a9cc7",
   "metadata": {
    "id": "df35fd0d-513e-4e77-867e-429da10a9cc7"
   },
   "source": [
    "1. You work at the marketing department and you want to know which sales channel brought the most sales in terms of total revenue. Using pivot, create a summary table showing the total revenue for each sales channel (branch, call center, web, and mail).\n",
    "Round the total revenue to 2 decimal points.  Analyze the resulting table to draw insights."
   ]
  },
  {
   "cell_type": "code",
   "execution_count": 88,
   "id": "e175aea6",
   "metadata": {},
   "outputs": [
    {
     "name": "stdout",
     "output_type": "stream",
     "text": [
      "Index(['unnamed:_0', 'customer', 'state', 'customer_lifetime_value',\n",
      "       'response', 'coverage', 'education', 'effective_to_date',\n",
      "       'employmentstatus', 'gender', 'income', 'location_code',\n",
      "       'marital_status', 'monthly_premium_auto', 'months_since_last_claim',\n",
      "       'months_since_policy_inception', 'number_of_open_complaints',\n",
      "       'number_of_policies', 'policy_type', 'policy', 'renew_offer_type',\n",
      "       'sales_channel', 'total_claim_amount', 'vehicle_class', 'vehicle_size',\n",
      "       'vehicle_type', 'month'],\n",
      "      dtype='object')\n"
     ]
    }
   ],
   "source": [
    "# Check the column names\n",
    "print(df.columns)"
   ]
  },
  {
   "cell_type": "code",
   "execution_count": 89,
   "id": "c868fe3d",
   "metadata": {},
   "outputs": [
    {
     "name": "stdout",
     "output_type": "stream",
     "text": [
      "               total_claim_amount\n",
      "sales_channel                    \n",
      "Agent                  1810226.82\n",
      "Branch                 1301204.00\n",
      "Call Center             926600.82\n",
      "Web                     706600.04\n"
     ]
    }
   ],
   "source": [
    "# Create a summary table using pivot_table with the correct column names\n",
    "summary_table = df.pivot_table(values='total_claim_amount', index='sales_channel', aggfunc='sum')\n",
    "\n",
    "# Round the total revenue to 2 decimal points\n",
    "summary_table = summary_table.round(2)\n",
    "\n",
    "# Display the summary table\n",
    "print(summary_table)"
   ]
  },
  {
   "cell_type": "markdown",
   "id": "640993b2-a291-436c-a34d-a551144f8196",
   "metadata": {
    "id": "640993b2-a291-436c-a34d-a551144f8196"
   },
   "source": [
    "2. Create a pivot table that shows the average customer lifetime value per gender and education level. Analyze the resulting table to draw insights."
   ]
  },
  {
   "cell_type": "code",
   "execution_count": 90,
   "id": "1901cffb",
   "metadata": {},
   "outputs": [
    {
     "name": "stdout",
     "output_type": "stream",
     "text": [
      "education  Bachelor  College   Doctor  High School or Below   Master\n",
      "gender                                                              \n",
      "F           7874.27  7748.82  7328.51               8675.22  8157.05\n",
      "M           7703.60  8052.46  7415.33               8149.69  8168.83\n"
     ]
    }
   ],
   "source": [
    "# Create a pivot table to show the average customer lifetime value per gender and education level\n",
    "pivot_table = df.pivot_table(values='customer_lifetime_value', index='gender', columns='education', aggfunc='mean')\n",
    "\n",
    "# Round the average customer lifetime value to 2 decimal points\n",
    "pivot_table = pivot_table.round(2)\n",
    "\n",
    "# Display the pivot table\n",
    "print(pivot_table)"
   ]
  },
  {
   "cell_type": "markdown",
   "id": "32c7f2e5-3d90-43e5-be33-9781b6069198",
   "metadata": {
    "id": "32c7f2e5-3d90-43e5-be33-9781b6069198"
   },
   "source": [
    "## Bonus\n",
    "\n",
    "You work at the customer service department and you want to know which months had the highest number of complaints by policy type category. Create a summary table showing the number of complaints by policy type and month.\n",
    "Show it in a long format table."
   ]
  },
  {
   "cell_type": "markdown",
   "id": "e3d09a8f-953c-448a-a5f8-2e5a8cca7291",
   "metadata": {
    "id": "e3d09a8f-953c-448a-a5f8-2e5a8cca7291"
   },
   "source": [
    "*In data analysis, a long format table is a way of structuring data in which each observation or measurement is stored in a separate row of the table. The key characteristic of a long format table is that each column represents a single variable, and each row represents a single observation of that variable.*\n",
    "\n",
    "*More information about long and wide format tables here: https://www.statology.org/long-vs-wide-data/*"
   ]
  },
  {
   "cell_type": "code",
   "execution_count": 91,
   "id": "3a069e0b-b400-470e-904d-d17582191be4",
   "metadata": {
    "id": "3a069e0b-b400-470e-904d-d17582191be4"
   },
   "outputs": [
    {
     "name": "stdout",
     "output_type": "stream",
     "text": [
      "   month     policy_type  number_of_complaints\n",
      "0      1  Corporate Auto            443.434952\n",
      "1      2  Corporate Auto            385.208135\n",
      "2      1   Personal Auto           1727.605722\n",
      "3      2   Personal Auto           1453.684441\n",
      "4      1    Special Auto             87.074049\n",
      "5      2    Special Auto             95.226817\n"
     ]
    }
   ],
   "source": [
    "# Create a summary table showing the number of complaints by policy type and month\n",
    "summary_table = df.pivot_table(values='number_of_open_complaints', index='month', columns='policy_type', aggfunc='sum', fill_value=0)\n",
    "\n",
    "# Convert the summary table to a long format table\n",
    "long_format_table = summary_table.reset_index().melt(id_vars=['month'], var_name='policy_type', value_name='number_of_complaints')\n",
    "\n",
    "# Display the long format table\n",
    "print(long_format_table)"
   ]
  }
 ],
 "metadata": {
  "colab": {
   "provenance": []
  },
  "kernelspec": {
   "display_name": "base",
   "language": "python",
   "name": "python3"
  },
  "language_info": {
   "codemirror_mode": {
    "name": "ipython",
    "version": 3
   },
   "file_extension": ".py",
   "mimetype": "text/x-python",
   "name": "python",
   "nbconvert_exporter": "python",
   "pygments_lexer": "ipython3",
   "version": "3.12.4"
  }
 },
 "nbformat": 4,
 "nbformat_minor": 5
}
